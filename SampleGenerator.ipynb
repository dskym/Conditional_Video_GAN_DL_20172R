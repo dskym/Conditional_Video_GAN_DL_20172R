{
 "cells": [
  {
   "cell_type": "code",
   "execution_count": 1,
   "metadata": {
    "collapsed": true
   },
   "outputs": [],
   "source": [
    "import os\n",
    "\n",
    "import numpy as np\n",
    "\n",
    "import torch\n",
    "import torch.nn as nn\n",
    "\n",
    "from torch.autograd import Variable\n",
    "\n",
    "from torchvision import transforms\n",
    "import torchvision.utils\n",
    "\n",
    "from new_data_loader import get_loader\n",
    "from make_gif import make_gif\n",
    "\n",
    "from DiscrimiatorModule import Discriminator\n",
    "from GeneratorModule import Generator"
   ]
  },
  {
   "cell_type": "code",
   "execution_count": 2,
   "metadata": {
    "collapsed": true
   },
   "outputs": [],
   "source": [
    "dtype = torch.cuda.FloatTensor\n",
    "\n",
    "D = torch.load('D.ckpt').type(dtype)\n",
    "G = torch.load('G.ckpt').type(dtype)"
   ]
  },
  {
   "cell_type": "code",
   "execution_count": 4,
   "metadata": {},
   "outputs": [
    {
     "name": "stdout",
     "output_type": "stream",
     "text": [
      "\n",
      "[MoviePy] Building file output0.gif with imageio\n"
     ]
    },
    {
     "name": "stderr",
     "output_type": "stream",
     "text": [
      " 97%|█████████▋| 32/33 [00:00<00:00, 39.87it/s]\n"
     ]
    },
    {
     "name": "stdout",
     "output_type": "stream",
     "text": [
      "\n",
      "[MoviePy] Building file output1.gif with imageio\n"
     ]
    },
    {
     "name": "stderr",
     "output_type": "stream",
     "text": [
      " 97%|█████████▋| 32/33 [00:00<00:00, 69.52it/s]\n"
     ]
    },
    {
     "name": "stdout",
     "output_type": "stream",
     "text": [
      "\n",
      "[MoviePy] Building file output2.gif with imageio\n"
     ]
    },
    {
     "name": "stderr",
     "output_type": "stream",
     "text": [
      " 97%|█████████▋| 32/33 [00:00<00:00, 42.86it/s]\n"
     ]
    },
    {
     "name": "stdout",
     "output_type": "stream",
     "text": [
      "\n",
      "[MoviePy] Building file output3.gif with imageio\n"
     ]
    },
    {
     "name": "stderr",
     "output_type": "stream",
     "text": [
      " 97%|█████████▋| 32/33 [00:00<00:00, 44.32it/s]\n"
     ]
    },
    {
     "name": "stdout",
     "output_type": "stream",
     "text": [
      "\n",
      "[MoviePy] Building file output4.gif with imageio\n"
     ]
    },
    {
     "name": "stderr",
     "output_type": "stream",
     "text": [
      " 97%|█████████▋| 32/33 [00:00<00:00, 32.57it/s]\n"
     ]
    },
    {
     "name": "stdout",
     "output_type": "stream",
     "text": [
      "\n",
      "[MoviePy] Building file output5.gif with imageio\n"
     ]
    },
    {
     "name": "stderr",
     "output_type": "stream",
     "text": [
      " 97%|█████████▋| 32/33 [00:00<00:00, 48.20it/s]\n"
     ]
    }
   ],
   "source": [
    "path_dir = './testvideo'\n",
    "\n",
    "if not os.path.exists(path_dir) :\n",
    "    os.mkdir(path_dir)\n",
    "\n",
    "for classes in range(6) :        \n",
    "    z = Variable(torch.randn(1, 100) * 0.01).type(dtype)\n",
    "    \n",
    "    label =  torch.zeros(1, 6)\n",
    "    label.scatter_(1, torch.LongTensor([[classes]]), 1)\n",
    "    label.transpose_(1, 0)\n",
    "    label = Variable(label).type(dtype)\n",
    "    \n",
    "    for i in range(32) :\n",
    "        fake_video = torch.squeeze(G(z, label))[:,i,:,:]\n",
    "        fake_video = fake_video.data * 0.5 + 0.5\n",
    "        #fake_video = transforms.ToPILImage()(fake_video.cpu())\n",
    "        #fake_video.save(path_dir + '/test' + str(classes) + '_' + str(i+1) + '.png')\n",
    "        torchvision.utils.save_image(tensor=fake_video, filename=path_dir + '/test' + str(classes) + '_' + str(i+1) + '.png')\n",
    "        \n",
    "    make_gif(root=path_dir, output='output' + str(classes) + '.gif', fps=8)\n",
    "    \n",
    "    for i in range(32) :\n",
    "        os.remove(path_dir + '/test' + str(classes) + \"_\" + str(i+1) + \".png\")"
   ]
  },
  {
   "cell_type": "code",
   "execution_count": null,
   "metadata": {
    "collapsed": true
   },
   "outputs": [],
   "source": []
  }
 ],
 "metadata": {
  "kernelspec": {
   "display_name": "Python 3",
   "language": "python",
   "name": "python3"
  },
  "language_info": {
   "codemirror_mode": {
    "name": "ipython",
    "version": 3
   },
   "file_extension": ".py",
   "mimetype": "text/x-python",
   "name": "python",
   "nbconvert_exporter": "python",
   "pygments_lexer": "ipython3",
   "version": "3.6.3"
  }
 },
 "nbformat": 4,
 "nbformat_minor": 2
}
